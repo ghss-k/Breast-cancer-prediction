{
  "nbformat": 4,
  "nbformat_minor": 0,
  "metadata": {
    "colab": {
      "name": "Partie2_pfa",
      "provenance": []
    },
    "kernelspec": {
      "name": "python3",
      "display_name": "Python 3"
    },
    "language_info": {
      "name": "python"
    }
  },
  "cells": [
    {
      "cell_type": "code",
      "execution_count": null,
      "metadata": {
        "id": "Y9rWxBkmBf_L"
      },
      "outputs": [],
      "source": [
        "import numpy as np\n",
        "import pandas as pd\n",
        "from sklearn.model_selection import train_test_split\n",
        "import matplotlib.pyplot as plt\n",
        "import seaborn as sns\n",
        "%matplotlib inline\n",
        "from sklearn.ensemble import GradientBoostingClassifier\n",
        "from xgboost import XGBClassifier\n",
        "from sklearn.linear_model import LogisticRegression\n",
        "from sklearn.ensemble import RandomForestClassifier\n",
        "from sklearn.naive_bayes import GaussianNB\n",
        "from sklearn.neighbors import KNeighborsClassifier\n",
        "from sklearn.model_selection import KFold\n",
        "from sklearn.model_selection import cross_val_score\n",
        "from sklearn.metrics import confusion_matrix\n",
        "from sklearn.model_selection import StratifiedKFold\n",
        "from imblearn.over_sampling import RandomOverSampler\n",
        "from imblearn.under_sampling import RandomUnderSampler\n",
        "from imblearn.over_sampling import SMOTE\n",
        "from sklearn import metrics\n",
        "from sklearn.metrics import RocCurveDisplay\n",
        "from sklearn.metrics import auc\n",
        "%matplotlib inline"
      ]
    },
    {
      "cell_type": "code",
      "source": [
        "df = pd.read_csv(\"data.csv\")"
      ],
      "metadata": {
        "id": "DwRyafalBmGu"
      },
      "execution_count": null,
      "outputs": []
    },
    {
      "cell_type": "code",
      "source": [
        "clmns = ['id', 'diagnosis', 'radius_mean', 'texture_mean', 'perimeter_mean',\n",
        "       'area_mean', 'smoothness_mean', 'compactness_mean', 'concavity_mean',\n",
        "       'concave points_mean', 'symmetry_mean', 'fractal_dimension_mean',\n",
        "       'radius_se', 'texture_se', 'perimeter_se', 'area_se', 'smoothness_se',\n",
        "       'compactness_se', 'concavity_se', 'concave points_se', 'symmetry_se',\n",
        "       'fractal_dimension_se', 'radius_worst', 'texture_worst',\n",
        "       'perimeter_worst', 'area_worst', 'smoothness_worst',\n",
        "       'compactness_worst', 'concavity_worst', 'concave points_worst',\n",
        "       'symmetry_worst', 'fractal_dimension_worst']"
      ],
      "metadata": {
        "id": "ULPQipPfpUQX"
      },
      "execution_count": null,
      "outputs": []
    },
    {
      "cell_type": "code",
      "source": [
        "def accuracy(m) :\n",
        "  return (m[0][0]+m[1][1])/(m[0][0]+m[0][1]+m[1][0]+m[1][1])\n",
        "\n",
        "def sensibility(m) :\n",
        "  return m[1][1]/(m[1][1]+m[1][0])\n",
        "\n",
        "def specificity(m) :\n",
        "  return m[0][0]/(m[0][0]+m[0][1])\n",
        "\n",
        "def mcc(m) :\n",
        "  a = m[0][0]*m[1][1] - m[0][1]*m[1][0]\n",
        "  b = np.sqrt((m[1][1]+m[0][1])*(m[1][1]+m[1][0])*(m[0][0]+m[0][1])*(m[0][0]+m[1][0]))\n",
        "  return a/b\n"
      ],
      "metadata": {
        "id": "TybmvHDPjf7K"
      },
      "execution_count": null,
      "outputs": []
    },
    {
      "cell_type": "code",
      "source": [
        "def cross_val(X, Y, algorithm, features=-1, cross_validation='cv', k=5, balancing_method='under_sampling') :\n",
        "  if (features != -1) :\n",
        "    X_ = pd.DataFrame({feature : df[feature] for feature in features})\n",
        "    X_ = X_.to_numpy()\n",
        "    Y_ = df[\"diagnosis\"]\n",
        "    Y_ = Y_.to_numpy()\n",
        "  else :\n",
        "    X_ = X\n",
        "    Y_ = Y\n",
        "  if cross_validation == 'cv' :\n",
        "    splt = KFold(n_splits=k, random_state=1, shuffle=True)\n",
        "    splits = splt.split(X_)\n",
        "  elif cross_validation == 'skf' :\n",
        "    splt = StratifiedKFold(n_splits=k)\n",
        "    splits = splt.split(X_, Y_)\n",
        "  model_predictions = []\n",
        "  actual_labels = []\n",
        "  scores = []\n",
        "  if algorithm == 'Gradient_Boosting' :\n",
        "    model = GradientBoostingClassifier(random_state=42)\n",
        "  elif algorithm == 'XGradient_Boosting' :\n",
        "    model = XGBClassifier()\n",
        "  elif algorithm == 'Logistic_Regression' :\n",
        "    model = LogisticRegression(random_state=0,  max_iter=100)\n",
        "  elif algorithm == 'Random_Forest' :\n",
        "    model = RandomForestClassifier(max_depth=5, random_state=0)\n",
        "  elif algorithm == 'Gaussian_nb' :\n",
        "    model = GaussianNB()\n",
        "  elif algorithm == 'K_Nearest_Neighbors' :\n",
        "    model = KNeighborsClassifier(n_neighbors=7)\n",
        "  tprs = []\n",
        "  aucs = []\n",
        "  mean_fpr = np.linspace(0, 1, 100)\n",
        "  fig, ax = plt.subplots()\n",
        "  n = 0\n",
        "  for train_index, test_index in splits :\n",
        "    X_train, Y_train = X_[train_index], Y_[train_index]\n",
        "    X_test, Y_test = X_[test_index], Y_[test_index]\n",
        "    if (balancing_method != None and cross_validation == 'cv') :\n",
        "      if balancing_method == \"over_sampling\" :\n",
        "        balancing = RandomOverSampler(random_state=0)\n",
        "      elif balancing_method == \"smote\" :\n",
        "        balancing = SMOTE()\n",
        "      elif balancing_method == \"under_sampling\" :\n",
        "        balancing = RandomUnderSampler(random_state=0)\n",
        "      X_train, Y_train = balancing.fit_resample(X_train, Y_train)\n",
        "    model = model.fit(X_train, Y_train)\n",
        "    #ROC Plot\n",
        "    viz = RocCurveDisplay.from_estimator(model, X_test, Y_test, name=\"ROC fold {}\".format(n), alpha=0.3, lw=1, ax=ax)\n",
        "    interp_tpr = np.interp(mean_fpr, viz.fpr, viz.tpr)\n",
        "    interp_tpr[0] = 0.0\n",
        "    tprs.append(interp_tpr)\n",
        "    aucs.append(viz.roc_auc)\n",
        "    model_predictions.append(model.predict(X_test))\n",
        "    actual_labels.append(Y_test)\n",
        "    scores.append(model.score(X_test, Y_test))\n",
        "    n += 1\n",
        "  ax.plot([0, 1], [0, 1], linestyle=\"--\", lw=2, color=\"r\", label=\"Chance\", alpha=0.2)\n",
        "  mean_tpr = np.mean(tprs, axis=0)\n",
        "  mean_tpr[-1] = 1.0\n",
        "  mean_auc = auc(mean_fpr, mean_tpr)\n",
        "  std_auc = np.std(aucs)\n",
        "  ax.plot(mean_fpr, mean_tpr, color=\"b\", label=r\"Mean ROC (AUC = %0.2f $\\pm$ %0.2f)\" % (mean_auc, std_auc), lw=2, alpha=0.8)\n",
        "  std_tpr = np.std(tprs, axis=0)\n",
        "  tprs_upper = np.minimum(mean_tpr + std_tpr, 1)\n",
        "  tprs_lower = np.maximum(mean_tpr - std_tpr, 0)\n",
        "  ax.fill_between(mean_fpr, tprs_lower, tprs_upper, color=\"grey\", alpha=0.2, label=r\"$\\pm$ 1 std. dev.\",)\n",
        "  ax.set(xlim=[-0.05, 1.05], ylim=[-0.05, 1.05], title=\"Receiver operating characteristic : \" + algorithm)\n",
        "  ax.legend(loc=\"lower right\")\n",
        "  plt.show()\n",
        "  performance_metrics = [{} for i in range(k+1)]\n",
        "  for i in range(k) :\n",
        "    performance_metrics[i]['confusion_matrix'] = confusion_matrix(model_predictions[i], actual_labels[i])\n",
        "    conf_mat = performance_metrics[i]['confusion_matrix']\n",
        "    performance_metrics[i]['accuracy'] = accuracy(conf_mat)\n",
        "    performance_metrics[i]['sensibility'] = sensibility(conf_mat)\n",
        "    performance_metrics[i]['specificity'] = specificity(conf_mat)\n",
        "    performance_metrics[i]['mcc'] = mcc(conf_mat)\n",
        "  performance_metrics[k]['accuracy_average'] = np.mean([performance_metrics[i]['accuracy'] for i in range(k)])\n",
        "  #performance_metrics[k]['accuracy_deviation'] = np.std([performance_metrics[i]['accuracy'] for i in range(k)])\n",
        "  performance_metrics[k]['sensibility_average'] = np.mean([performance_metrics[i]['sensibility'] for i in range(k)])\n",
        "  #performance_metrics[k]['sensibility_deviation'] = np.std([performance_metrics[i]['sensibility'] for i in range(k)])\n",
        "  performance_metrics[k]['specificity_average'] = np.mean([performance_metrics[i]['specificity'] for i in range(k)])\n",
        "  #performance_metrics[k]['specificity_deviation'] = np.std([performance_metrics[i]['specificity'] for i in range(k)])\n",
        "  performance_metrics[k]['mcc_average'] = np.mean([performance_metrics[i]['mcc'] for i in range(k)])\n",
        "  #performance_metrics[k]['mcc_deviation'] = np.std([performance_metrics[i]['mcc'] for i in range(k)])\n",
        "  return performance_metrics"
      ],
      "metadata": {
        "id": "W00dyoDahik0"
      },
      "execution_count": null,
      "outputs": []
    },
    {
      "cell_type": "code",
      "source": [
        "def cross_val(X, Y, algorithm, features=-1, cross_validation='cv', k=5, balancing_method='under_sampling') :\n",
        "  if (features != -1) :\n",
        "    X_ = pd.DataFrame({feature : df[feature] for feature in features})\n",
        "    X_ = X_.to_numpy()\n",
        "    Y_ = df[\"diagnosis\"]\n",
        "    Y_ = Y_.to_numpy()\n",
        "  else :\n",
        "    X_ = X\n",
        "    Y_ = Y\n",
        "  if cross_validation == 'cv' :\n",
        "    splt = KFold(n_splits=k, random_state=1, shuffle=True)\n",
        "    splits = splt.split(X_)\n",
        "  elif cross_validation == 'skf' :\n",
        "    splt = StratifiedKFold(n_splits=k)\n",
        "    splits = splt.split(X_, Y_)\n",
        "  model_predictions = []\n",
        "  actual_labels = []\n",
        "  scores = []\n",
        "  if algorithm == 'GB' :\n",
        "    model = GradientBoostingClassifier(random_state=42)\n",
        "  elif algorithm == 'XGB' :\n",
        "    model = XGBClassifier()\n",
        "  elif algorithm == 'LR' :\n",
        "    model = LogisticRegression(random_state=0,  max_iter=100)\n",
        "  elif algorithm == 'RF' :\n",
        "    model = RandomForestClassifier(max_depth=5, random_state=0)\n",
        "  elif algorithm == 'GNB' :\n",
        "    model = GaussianNB()\n",
        "  elif algorithm == 'KNN' :\n",
        "    model = KNeighborsClassifier(n_neighbors=7)\n",
        "  tprs = []\n",
        "  aucs = []\n",
        "  mean_fpr = np.linspace(0, 1, 100)\n",
        "  fig, ax = plt.subplots()\n",
        "  n = 0\n",
        "  for train_index, test_index in splits :\n",
        "    X_train, Y_train = X_[train_index], Y_[train_index]\n",
        "    X_test, Y_test = X_[test_index], Y_[test_index]\n",
        "    if (balancing_method != None and cross_validation == 'cv') :\n",
        "      if balancing_method == \"over_sampling\" :\n",
        "        balancing = RandomOverSampler(random_state=0)\n",
        "      elif balancing_method == \"smote\" :\n",
        "        balancing = SMOTE()\n",
        "      elif balancing_method == \"under_sampling\" :\n",
        "        balancing = RandomUnderSampler(random_state=0)\n",
        "      X_train, Y_train = balancing.fit_resample(X_train, Y_train)\n",
        "    model = model.fit(X_train, Y_train)\n",
        "    #ROC Plot\n",
        "    viz = RocCurveDisplay.from_estimator(model, X_test, Y_test, name=\"ROC fold {}\".format(n), alpha=0.3, lw=1, ax=ax)\n",
        "    interp_tpr = np.interp(mean_fpr, viz.fpr, viz.tpr)\n",
        "    interp_tpr[0] = 0.0\n",
        "    tprs.append(interp_tpr)\n",
        "    aucs.append(viz.roc_auc)\n",
        "    model_predictions.append(model.predict(X_test))\n",
        "    actual_labels.append(Y_test)\n",
        "    scores.append(model.score(X_test, Y_test))\n",
        "    n += 1\n",
        "  ax.plot([0, 1], [0, 1], linestyle=\"--\", lw=2, color=\"r\", label=\"Chance\", alpha=0.2)\n",
        "  mean_tpr = np.mean(tprs, axis=0)\n",
        "  mean_tpr[-1] = 1.0\n",
        "  mean_auc = auc(mean_fpr, mean_tpr)\n",
        "  std_auc = np.std(aucs)\n",
        "  ax.plot(mean_fpr, mean_tpr, color=\"b\", label=r\"Mean ROC (AUC = %0.2f $\\pm$ %0.2f)\" % (mean_auc, std_auc), lw=2, alpha=0.8)\n",
        "  std_tpr = np.std(tprs, axis=0)\n",
        "  tprs_upper = np.minimum(mean_tpr + std_tpr, 1)\n",
        "  tprs_lower = np.maximum(mean_tpr - std_tpr, 0)\n",
        "  ax.fill_between(mean_fpr, tprs_lower, tprs_upper, color=\"grey\", alpha=0.2, label=r\"$\\pm$ 1 std. dev.\",)\n",
        "  ax.set(xlim=[-0.05, 1.05], ylim=[-0.05, 1.05], title=\"Receiver operating characteristic : \" + algorithm)\n",
        "  ax.legend(loc=\"lower right\")\n",
        "  plt.show()\n",
        "  performance_metrics = [{} for i in range(k+1)]\n",
        "  for i in range(k) :\n",
        "    performance_metrics[i]['confusion_matrix'] = confusion_matrix(model_predictions[i], actual_labels[i])\n",
        "    conf_mat = performance_metrics[i]['confusion_matrix']\n",
        "    performance_metrics[i]['accuracy'] = accuracy(conf_mat)\n",
        "    performance_metrics[i]['sensibility'] = sensibility(conf_mat)\n",
        "    performance_metrics[i]['specificity'] = specificity(conf_mat)\n",
        "    performance_metrics[i]['mcc'] = mcc(conf_mat)\n",
        "    performance_metrics[i]['auc'] = aucs[i]\n",
        "  performance_metrics[k]['accuracy_average'] = np.mean([performance_metrics[i]['accuracy'] for i in range(k)])\n",
        "  #performance_metrics[k]['accuracy_deviation'] = np.std([performance_metrics[i]['accuracy'] for i in range(k)])\n",
        "  performance_metrics[k]['sensibility_average'] = np.mean([performance_metrics[i]['sensibility'] for i in range(k)])\n",
        "  #performance_metrics[k]['sensibility_deviation'] = np.std([performance_metrics[i]['sensibility'] for i in range(k)])\n",
        "  performance_metrics[k]['specificity_average'] = np.mean([performance_metrics[i]['specificity'] for i in range(k)])\n",
        "  #performance_metrics[k]['specificity_deviation'] = np.std([performance_metrics[i]['specificity'] for i in range(k)])\n",
        "  performance_metrics[k]['mcc_average'] = np.mean([performance_metrics[i]['mcc'] for i in range(k)])\n",
        "  #performance_metrics[k]['mcc_deviation'] = np.std([performance_metrics[i]['mcc'] for i in range(k)])\n",
        "  performance_metrics[k]['auc_average'] = np.mean([performance_metrics[i]['auc'] for i in range(k)])\n",
        "  return performance_metrics"
      ],
      "metadata": {
        "id": "rWoJgjP3sdP0"
      },
      "execution_count": null,
      "outputs": []
    },
    {
      "cell_type": "code",
      "source": [
        "X = df.copy()\n",
        "X.drop(['id','diagnosis', 'Unnamed: 32'],axis=1,inplace=True)\n",
        "X = X.to_numpy()\n",
        "Y = df[\"diagnosis\"]\n",
        "Y = Y.to_numpy()"
      ],
      "metadata": {
        "id": "-0GglRK2ceby"
      },
      "execution_count": null,
      "outputs": []
    },
    {
      "cell_type": "code",
      "source": [
        "perf = cross_val(X, Y, \"XGB\", cross_validation='cv', balancing_method='smote')"
      ],
      "metadata": {
        "id": "9cF-0OZ3s373",
        "colab": {
          "base_uri": "https://localhost:8080/",
          "height": 295
        },
        "outputId": "cab2a744-3656-4c64-b895-67b465bd2e7d"
      },
      "execution_count": null,
      "outputs": [
        {
          "output_type": "display_data",
          "data": {
            "text/plain": [
              "<Figure size 432x288 with 1 Axes>"
            ],
            "image/png": "[encoded data removed]"
          },
          "metadata": {
            "needs_background": "light"
          }
        }
      ]
    },
    {
      "cell_type": "code",
      "source": [
        "perf[5]"
      ],
      "metadata": {
        "colab": {
          "base_uri": "https://localhost:8080/"
        },
        "id": "_GyKRRHytFO1",
        "outputId": "5279246f-df19-4496-961d-540252c22d67"
      },
      "execution_count": null,
      "outputs": [
        {
          "output_type": "execute_result",
          "data": {
            "text/plain": [
              "{'accuracy_average': 0.959633597267505,\n",
              " 'auc_average': 0.9926923828858225,\n",
              " 'mcc_average': 0.9146863419544164,\n",
              " 'sensibility_average': 0.9548164837180059,\n",
              " 'specificity_average': 0.9642492041880775}"
            ]
          },
          "metadata": {},
          "execution_count": 77
        }
      ]
    },
    {
      "cell_type": "code",
      "source": [
        "X_train, X_test, Y_train, Y_test = train_test_split(X, Y, test_size=0.2, train_size=0.8, random_state=0)"
      ],
      "metadata": {
        "id": "bf13HK8cdCul"
      },
      "execution_count": null,
      "outputs": []
    },
    {
      "cell_type": "code",
      "source": [
        "def most_k_imp(scrs_, k) :\n",
        "  scrs = scrs_.copy()\n",
        "  keys = scrs.keys()\n",
        "  max_scr_key = 0\n",
        "  for ke in keys :\n",
        "    max_scr_key = ke\n",
        "    break\n",
        "  top_scrs = []\n",
        "  for i in range(k) :\n",
        "    for ke in keys:\n",
        "      if scrs[ke] > scrs[max_scr_key] :\n",
        "        max_scr_key = ke\n",
        "    top_scrs.append(max_scr_key)\n",
        "    scrs[max_scr_key] = 0\n",
        "  return top_scrs\n",
        "\n",
        "def change_keys(scrs) :\n",
        "  dic = {}\n",
        "  for k in scrs.keys() :\n",
        "    try :\n",
        "      dic[clmns[1 + int(k[1:])]] = scrs[k]\n",
        "    except :\n",
        "      return scrs\n",
        "  return dic"
      ],
      "metadata": {
        "id": "emm_8tNKCFnP"
      },
      "execution_count": null,
      "outputs": []
    },
    {
      "cell_type": "code",
      "source": [
        ""
      ],
      "metadata": {
        "id": "KV4WvDPdiN3U"
      },
      "execution_count": null,
      "outputs": []
    },
    {
      "cell_type": "code",
      "source": [
        "def xgb_scores(imp_type='weight') :\n",
        "  scores_av = {key : 0 for key in clmns[2:]}\n",
        "  splt = StratifiedKFold(n_splits=5).split(X, Y)\n",
        "  for train_i, test_i in splt :\n",
        "    X_train, Y_train = X[train_i], Y[train_i]\n",
        "    X_test, Y_test = X[test_i], Y[test_i]\n",
        "    model = XGBClassifier()\n",
        "    model = model.fit(X_train, Y_train)\n",
        "    scrs = model.get_booster().get_score(importance_type=imp_type)\n",
        "    for key in scrs.keys() :\n",
        "      scores_av[clmns[2+int(key[1:])]] += scrs[key]/5 \n",
        "  return scores_av\n",
        "\n",
        "def xgb_selector(importance_type='weight', n_features=1) :\n",
        "  scrs = xgb_scores(imp_type=importance_type)\n",
        "  selected = most_k_imp(scrs, n_features)\n",
        "  return selected\n",
        "\n",
        "def selected_model(importance_type='weight', n_features=1, selected_features=True) :\n",
        "  features = xgb_selector(importance_type=importance_type, n_features=n_features)\n",
        "  X = pd.DataFrame({feature : df[feature] for feature in features})\n",
        "  X = X.to_numpy()\n",
        "  Y = df[\"diagnosis\"]\n",
        "  Y = Y.to_numpy()\n",
        "  print(learn(X, Y, 'XGradient_Boosting', split_method='skf'))\n"
      ],
      "metadata": {
        "id": "v_BloWuJw2r5"
      },
      "execution_count": null,
      "outputs": []
    },
    {
      "cell_type": "code",
      "source": [
        "#perf = selected_model(n_features=10, algo='XGB')\n",
        "#perf[5]\n",
        "xgb_scores()"
      ],
      "metadata": {
        "colab": {
          "base_uri": "https://localhost:8080/",
          "height": 321
        },
        "id": "GiodXkJk4ECz",
        "outputId": "823994de-22aa-403c-f8c6-6682bd4a9099"
      },
      "execution_count": null,
      "outputs": [
        {
          "output_type": "error",
          "ename": "AttributeError",
          "evalue": "ignored",
          "traceback": [
            "\u001b[0;31m---------------------------------------------------------------------------\u001b[0m",
            "\u001b[0;31mAttributeError\u001b[0m                            Traceback (most recent call last)",
            "\u001b[0;32m<ipython-input-120-f19834d4439b>\u001b[0m in \u001b[0;36m<module>\u001b[0;34m()\u001b[0m\n\u001b[1;32m      1\u001b[0m \u001b[0;31m#perf = selected_model(n_features=10, algo='XGB')\u001b[0m\u001b[0;34m\u001b[0m\u001b[0;34m\u001b[0m\u001b[0;34m\u001b[0m\u001b[0m\n\u001b[1;32m      2\u001b[0m \u001b[0;31m#perf[5]\u001b[0m\u001b[0;34m\u001b[0m\u001b[0;34m\u001b[0m\u001b[0;34m\u001b[0m\u001b[0m\n\u001b[0;32m----> 3\u001b[0;31m \u001b[0mxgb_scores\u001b[0m\u001b[0;34m(\u001b[0m\u001b[0;34m)\u001b[0m\u001b[0;34m\u001b[0m\u001b[0;34m\u001b[0m\u001b[0m\n\u001b[0m",
            "\u001b[0;32m<ipython-input-118-0964275cc31a>\u001b[0m in \u001b[0;36mxgb_scores\u001b[0;34m()\u001b[0m\n\u001b[1;32m      8\u001b[0m     \u001b[0mmodel\u001b[0m \u001b[0;34m=\u001b[0m \u001b[0mmodel\u001b[0m\u001b[0;34m.\u001b[0m\u001b[0mfit\u001b[0m\u001b[0;34m(\u001b[0m\u001b[0mX_train\u001b[0m\u001b[0;34m,\u001b[0m \u001b[0mY_train\u001b[0m\u001b[0;34m)\u001b[0m\u001b[0;34m\u001b[0m\u001b[0;34m\u001b[0m\u001b[0m\n\u001b[1;32m      9\u001b[0m     \u001b[0mscrs\u001b[0m \u001b[0;34m=\u001b[0m \u001b[0mmodel\u001b[0m\u001b[0;34m.\u001b[0m\u001b[0mfeature_importances_\u001b[0m\u001b[0;34m\u001b[0m\u001b[0;34m\u001b[0m\u001b[0m\n\u001b[0;32m---> 10\u001b[0;31m     \u001b[0;32mfor\u001b[0m \u001b[0mkey\u001b[0m \u001b[0;32min\u001b[0m \u001b[0mscrs\u001b[0m\u001b[0;34m.\u001b[0m\u001b[0mkeys\u001b[0m\u001b[0;34m(\u001b[0m\u001b[0;34m)\u001b[0m \u001b[0;34m:\u001b[0m\u001b[0;34m\u001b[0m\u001b[0;34m\u001b[0m\u001b[0m\n\u001b[0m\u001b[1;32m     11\u001b[0m       \u001b[0mscores_av\u001b[0m\u001b[0;34m[\u001b[0m\u001b[0mclmns\u001b[0m\u001b[0;34m[\u001b[0m\u001b[0;36m2\u001b[0m\u001b[0;34m+\u001b[0m\u001b[0mint\u001b[0m\u001b[0;34m(\u001b[0m\u001b[0mkey\u001b[0m\u001b[0;34m[\u001b[0m\u001b[0;36m1\u001b[0m\u001b[0;34m:\u001b[0m\u001b[0;34m]\u001b[0m\u001b[0;34m)\u001b[0m\u001b[0;34m]\u001b[0m\u001b[0;34m]\u001b[0m \u001b[0;34m+=\u001b[0m \u001b[0mscrs\u001b[0m\u001b[0;34m[\u001b[0m\u001b[0mkey\u001b[0m\u001b[0;34m]\u001b[0m\u001b[0;34m/\u001b[0m\u001b[0;36m5\u001b[0m\u001b[0;34m\u001b[0m\u001b[0;34m\u001b[0m\u001b[0m\n\u001b[1;32m     12\u001b[0m     \u001b[0mprint\u001b[0m\u001b[0;34m(\u001b[0m\u001b[0mscores_av\u001b[0m\u001b[0;34m)\u001b[0m\u001b[0;34m\u001b[0m\u001b[0;34m\u001b[0m\u001b[0m\n",
            "\u001b[0;31mAttributeError\u001b[0m: 'numpy.ndarray' object has no attribute 'keys'"
          ]
        }
      ]
    },
    {
      "cell_type": "code",
      "source": [
        "max_scrs = xgb_selector(importance_type='weight', n_features=10)\n",
        "max_scrs"
      ],
      "metadata": {
        "colab": {
          "base_uri": "https://localhost:8080/"
        },
        "id": "gCLKCkw-gvaq",
        "outputId": "0206e8c8-863e-4930-e606-64379f441d87"
      },
      "execution_count": null,
      "outputs": [
        {
          "output_type": "execute_result",
          "data": {
            "text/plain": [
              "['texture_worst',\n",
              " 'area_se',\n",
              " 'area_worst',\n",
              " 'concave points_worst',\n",
              " 'texture_mean',\n",
              " 'concavity_worst',\n",
              " 'concave points_mean',\n",
              " 'smoothness_worst',\n",
              " 'radius_worst',\n",
              " 'compactness_se']"
            ]
          },
          "metadata": {},
          "execution_count": 56
        }
      ]
    },
    {
      "cell_type": "code",
      "source": [
        "feature_important = model.get_booster().get_score(importance_type='weight')\n",
        "keys = list(feature_important.keys())\n",
        "values = list(feature_important.values())\n",
        "\n",
        "data = pd.DataFrame(data=values, index=keys, columns=[\"score\"]).sort_values(by = \"score\", ascending=False)\n",
        "data.nlargest(40, columns=\"score\").plot(kind='barh', figsize = (20,10)) ## plot top 40 features"
      ],
      "metadata": {
        "id": "gE0zrNQinpu8"
      },
      "execution_count": null,
      "outputs": []
    },
    {
      "cell_type": "code",
      "source": [
        "learn('Gradient_Boosting', split_method='skf', n_splits=5, j=4)"
      ],
      "metadata": {
        "colab": {
          "base_uri": "https://localhost:8080/"
        },
        "id": "sTV6qIN1kuUP",
        "outputId": "e449749f-6da8-46a7-c1e5-9fdc448fb386"
      },
      "execution_count": null,
      "outputs": [
        {
          "output_type": "execute_result",
          "data": {
            "text/plain": [
              "{'accuracy': 0.9646017699115044,\n",
              " 'auc': 0.9979879275653923,\n",
              " 'mcc': 0.9255939267362071,\n",
              " 'sensibility': 0.9318181818181818,\n",
              " 'specificity': 0.9855072463768116}"
            ]
          },
          "metadata": {},
          "execution_count": 145
        }
      ]
    }
  ]
}